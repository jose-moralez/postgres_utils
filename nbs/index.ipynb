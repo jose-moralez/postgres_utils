{
 "cells": [
  {
   "cell_type": "markdown",
   "metadata": {},
   "source": [
    "# Postgres utils\n",
    "\n",
    "> Utilities for interacting with postgresql databases using credentials from .env files."
   ]
  },
  {
   "cell_type": "markdown",
   "metadata": {},
   "source": [
    "## Install"
   ]
  },
  {
   "cell_type": "markdown",
   "metadata": {},
   "source": [
    "`pip install postgres-utils`"
   ]
  },
  {
   "cell_type": "markdown",
   "metadata": {},
   "source": [
    "## How to use"
   ]
  },
  {
   "cell_type": "markdown",
   "metadata": {},
   "source": [
    "Set up a `.env` file using the following names for the credentials:\n",
    "\n",
    "```\n",
    "POSTGRES_HOST_{SERVER} =\n",
    "POSTGRES_PORT_{SERVER} =\n",
    "POSTGRES_DATABASE_{SERVER} =\n",
    "POSTGRES_USER_{SERVER} =\n",
    "POSTGRES_PASSWORD_{SERVER} =\n",
    "```\n",
    "\n",
    "And follow the documentation on https://jose-moralez.github.io/postgres_utils/"
   ]
  }
 ],
 "metadata": {
  "kernelspec": {
   "display_name": "Python 3",
   "language": "python",
   "name": "python3"
  }
 },
 "nbformat": 4,
 "nbformat_minor": 4
}
