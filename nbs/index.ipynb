{
 "cells": [
  {
   "cell_type": "code",
   "execution_count": null,
   "metadata": {},
   "outputs": [],
   "source": [
    "#hide\n",
    "from postgres_utils.core import *"
   ]
  },
  {
   "cell_type": "markdown",
   "metadata": {},
   "source": [
    "# Postgres utils\n",
    "\n",
    "> Utilities for interacting with postgresql databases using credentials from .env files."
   ]
  },
  {
   "cell_type": "markdown",
   "metadata": {},
   "source": [
    "## Install"
   ]
  },
  {
   "cell_type": "markdown",
   "metadata": {},
   "source": [
    "`pip install postgres-utils`"
   ]
  },
  {
   "cell_type": "markdown",
   "metadata": {},
   "source": [
    "## How to use"
   ]
  },
  {
   "cell_type": "markdown",
   "metadata": {},
   "source": [
    "Set up a `.env` file using the following names for the credentials:\n",
    "\n",
    "```\n",
    "POSTGRES_HOST_{SERVER} =\n",
    "POSTGRES_PORT_{SERVER} =\n",
    "POSTGRES_DATABASE_{SERVER} =\n",
    "POSTGRES_USER_{SERVER} =\n",
    "POSTGRES_PASSWORD_{SERVER} =\n",
    "```"
   ]
  },
  {
   "cell_type": "markdown",
   "metadata": {},
   "source": [
    "Then you can create a connection to that server with the following:\n",
    "\n",
    "```\n",
    "con = create_connection('server', '.env')\n",
    "```"
   ]
  }
 ],
 "metadata": {
  "kernelspec": {
   "display_name": "Python 3",
   "language": "python",
   "name": "python3"
  }
 },
 "nbformat": 4,
 "nbformat_minor": 4
}
