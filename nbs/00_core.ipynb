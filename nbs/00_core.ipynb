{
 "cells": [
  {
   "cell_type": "code",
   "execution_count": null,
   "metadata": {},
   "outputs": [],
   "source": [
    "# default_exp core"
   ]
  },
  {
   "cell_type": "code",
   "execution_count": null,
   "metadata": {},
   "outputs": [],
   "source": [
    "#hide\n",
    "%load_ext autoreload\n",
    "%autoreload 2"
   ]
  },
  {
   "cell_type": "markdown",
   "metadata": {},
   "source": [
    "# Core"
   ]
  },
  {
   "cell_type": "code",
   "execution_count": null,
   "metadata": {},
   "outputs": [],
   "source": [
    "#export\n",
    "import os\n",
    "import random\n",
    "from io import StringIO\n",
    "from typing import Collection, Dict, Optional\n",
    "\n",
    "import pandas as pd\n",
    "import psycopg2\n",
    "from dotenv import load_dotenv\n",
    "\n",
    "Connection = psycopg2.extensions.connection"
   ]
  },
  {
   "cell_type": "code",
   "execution_count": null,
   "metadata": {},
   "outputs": [],
   "source": [
    "#exporti\n",
    "def _get_connection_arguments(server: str,\n",
    "                              dotenv_path: str = '.env',\n",
    "                              **conn_kwargs) -> Dict[str,str]:\n",
    "    \"Get connection arguments for server from .env file and conn_kwargs.\"\n",
    "    load_dotenv(dotenv_path)\n",
    "    variables = ('host', 'port', 'database', 'user', 'password')\n",
    "    params = {variable: os.getenv(f'postgres_{variable}_{server}'.upper())\n",
    "              for variable in variables}\n",
    "    params.update(conn_kwargs)\n",
    "    return params"
   ]
  },
  {
   "cell_type": "code",
   "execution_count": null,
   "metadata": {},
   "outputs": [],
   "source": [
    "#export\n",
    "def create_connection(server: str,\n",
    "                      dotenv_path: str = '.env',\n",
    "                      **conn_kwargs) -> Connection:\n",
    "    \"Create psycopg2 connection to server from .env file and conn_kwargs.\"\n",
    "    conn_args = _get_connection_arguments(server, dotenv_path, **conn_kwargs)\n",
    "    return psycopg2.connect(**conn_args)"
   ]
  },
  {
   "cell_type": "markdown",
   "metadata": {},
   "source": [
    "The first step is to create a connection to the database. This can be accomplished by setting up a .env file with the following convention: POSTGRES_{VARIABLE}_{SERVER_NAME}, such as the following:"
   ]
  },
  {
   "cell_type": "code",
   "execution_count": null,
   "metadata": {},
   "outputs": [
    {
     "name": "stdout",
     "output_type": "stream",
     "text": [
      "POSTGRES_HOST_LOCAL=localhost\n",
      "POSTGRES_PORT_LOCAL=5432\n",
      "POSTGRES_DATABASE_LOCAL=test\n",
      "POSTGRES_USER_LOCAL=jose\n",
      "POSTGRES_PASSWORD_LOCAL=mypwd\n"
     ]
    }
   ],
   "source": [
    "!cat ../.env_sample"
   ]
  },
  {
   "cell_type": "markdown",
   "metadata": {},
   "source": [
    "We can then create a connection to the database using `create_connection` by specifying the server name and the path to the .env file."
   ]
  },
  {
   "cell_type": "code",
   "execution_count": null,
   "metadata": {},
   "outputs": [
    {
     "name": "stdout",
     "output_type": "stream",
     "text": [
      "[(datetime.datetime(2021, 1, 21, 16, 57, 37, 19648, tzinfo=psycopg2.tz.FixedOffsetTimezone(offset=-360, name=None)),)]\n"
     ]
    }
   ],
   "source": [
    "connection = create_connection('local', '../.env_sample')\n",
    "cursor = connection.cursor()\n",
    "cursor.execute('select now()')\n",
    "print(cursor.fetchall())\n",
    "cursor.close()"
   ]
  },
  {
   "cell_type": "markdown",
   "metadata": {},
   "source": [
    "We can use this connection to query a table using pandas, for example."
   ]
  },
  {
   "cell_type": "code",
   "execution_count": null,
   "metadata": {},
   "outputs": [
    {
     "name": "stdout",
     "output_type": "stream",
     "text": [
      "Empty DataFrame\n",
      "Columns: [x, y]\n",
      "Index: []\n"
     ]
    }
   ],
   "source": [
    "import pandas as pd\n",
    "\n",
    "def print_test_table_contents():\n",
    "    connection = create_connection('local', '../.env_sample')\n",
    "    print(pd.read_sql_query('SELECT * FROM test_table', connection))\n",
    "    connection.close()\n",
    "    \n",
    "print_test_table_contents()"
   ]
  },
  {
   "cell_type": "code",
   "execution_count": null,
   "metadata": {},
   "outputs": [],
   "source": [
    "#export\n",
    "def append_df_to_table(conn: Connection,\n",
    "                       table: str,\n",
    "                       df: pd.DataFrame) -> None:\n",
    "    \"Append a dataframe to an existing postgresql table.\"\n",
    "    with conn.cursor() as cur:\n",
    "        output = StringIO()\n",
    "        df.to_csv(output, sep='\\t', header=False, index=False)\n",
    "        output.seek(0)\n",
    "        cur.copy_from(output, table, null='')"
   ]
  },
  {
   "cell_type": "markdown",
   "metadata": {},
   "source": [
    "If we have an already existing table and want to append a pandas dataframe to it we can use `append_df_to_table`."
   ]
  },
  {
   "cell_type": "code",
   "execution_count": null,
   "metadata": {},
   "outputs": [
    {
     "data": {
      "text/html": [
       "<div>\n",
       "<style scoped>\n",
       "    .dataframe tbody tr th:only-of-type {\n",
       "        vertical-align: middle;\n",
       "    }\n",
       "\n",
       "    .dataframe tbody tr th {\n",
       "        vertical-align: top;\n",
       "    }\n",
       "\n",
       "    .dataframe thead th {\n",
       "        text-align: right;\n",
       "    }\n",
       "</style>\n",
       "<table border=\"1\" class=\"dataframe\">\n",
       "  <thead>\n",
       "    <tr style=\"text-align: right;\">\n",
       "      <th></th>\n",
       "      <th>x</th>\n",
       "      <th>y</th>\n",
       "    </tr>\n",
       "  </thead>\n",
       "  <tbody>\n",
       "    <tr>\n",
       "      <th>0</th>\n",
       "      <td>1</td>\n",
       "      <td>ABC</td>\n",
       "    </tr>\n",
       "    <tr>\n",
       "      <th>1</th>\n",
       "      <td>2</td>\n",
       "      <td>DEF</td>\n",
       "    </tr>\n",
       "    <tr>\n",
       "      <th>2</th>\n",
       "      <td>3</td>\n",
       "      <td>GHI</td>\n",
       "    </tr>\n",
       "  </tbody>\n",
       "</table>\n",
       "</div>"
      ],
      "text/plain": [
       "   x    y\n",
       "0  1  ABC\n",
       "1  2  DEF\n",
       "2  3  GHI"
      ]
     },
     "execution_count": null,
     "metadata": {},
     "output_type": "execute_result"
    }
   ],
   "source": [
    "df = pd.DataFrame({'x': [1, 2, 3], 'y': ['ABC', 'DEF', 'GHI']})\n",
    "df"
   ]
  },
  {
   "cell_type": "code",
   "execution_count": null,
   "metadata": {},
   "outputs": [],
   "source": [
    "append_df_to_table(connection, 'test_table', df)"
   ]
  },
  {
   "cell_type": "markdown",
   "metadata": {},
   "source": [
    "We can check that the data has been inserted."
   ]
  },
  {
   "cell_type": "code",
   "execution_count": null,
   "metadata": {},
   "outputs": [
    {
     "data": {
      "text/html": [
       "<div>\n",
       "<style scoped>\n",
       "    .dataframe tbody tr th:only-of-type {\n",
       "        vertical-align: middle;\n",
       "    }\n",
       "\n",
       "    .dataframe tbody tr th {\n",
       "        vertical-align: top;\n",
       "    }\n",
       "\n",
       "    .dataframe thead th {\n",
       "        text-align: right;\n",
       "    }\n",
       "</style>\n",
       "<table border=\"1\" class=\"dataframe\">\n",
       "  <thead>\n",
       "    <tr style=\"text-align: right;\">\n",
       "      <th></th>\n",
       "      <th>x</th>\n",
       "      <th>y</th>\n",
       "    </tr>\n",
       "  </thead>\n",
       "  <tbody>\n",
       "    <tr>\n",
       "      <th>0</th>\n",
       "      <td>1</td>\n",
       "      <td>ABC</td>\n",
       "    </tr>\n",
       "    <tr>\n",
       "      <th>1</th>\n",
       "      <td>2</td>\n",
       "      <td>DEF</td>\n",
       "    </tr>\n",
       "    <tr>\n",
       "      <th>2</th>\n",
       "      <td>3</td>\n",
       "      <td>GHI</td>\n",
       "    </tr>\n",
       "  </tbody>\n",
       "</table>\n",
       "</div>"
      ],
      "text/plain": [
       "   x    y\n",
       "0  1  ABC\n",
       "1  2  DEF\n",
       "2  3  GHI"
      ]
     },
     "execution_count": null,
     "metadata": {},
     "output_type": "execute_result"
    }
   ],
   "source": [
    "pd.read_sql_query('select * from test_table', connection)"
   ]
  },
  {
   "cell_type": "markdown",
   "metadata": {},
   "source": [
    "However we have to commit these changes or else the transaction will be discarded when the connection is closed."
   ]
  },
  {
   "cell_type": "code",
   "execution_count": null,
   "metadata": {},
   "outputs": [],
   "source": [
    "connection.close()"
   ]
  },
  {
   "cell_type": "code",
   "execution_count": null,
   "metadata": {},
   "outputs": [
    {
     "name": "stdout",
     "output_type": "stream",
     "text": [
      "Empty DataFrame\n",
      "Columns: [x, y]\n",
      "Index: []\n"
     ]
    }
   ],
   "source": [
    "print_test_table_contents()"
   ]
  },
  {
   "cell_type": "markdown",
   "metadata": {},
   "source": [
    "Another option is to use the connection as a context manager, which will commit the changes once it exits."
   ]
  },
  {
   "cell_type": "code",
   "execution_count": null,
   "metadata": {},
   "outputs": [],
   "source": [
    "with create_connection('local', '../.env_sample') as conn:\n",
    "    append_df_to_table(conn, 'test_table', df)\n",
    "conn.close()"
   ]
  },
  {
   "cell_type": "code",
   "execution_count": null,
   "metadata": {},
   "outputs": [
    {
     "name": "stdout",
     "output_type": "stream",
     "text": [
      "   x    y\n",
      "0  1  ABC\n",
      "1  2  DEF\n",
      "2  3  GHI\n"
     ]
    }
   ],
   "source": [
    "print_test_table_contents()"
   ]
  },
  {
   "cell_type": "markdown",
   "metadata": {},
   "source": [
    "If the append fails, a rollback is performed, else it is commited"
   ]
  },
  {
   "cell_type": "code",
   "execution_count": null,
   "metadata": {},
   "outputs": [
    {
     "name": "stdout",
     "output_type": "stream",
     "text": [
      "Successfully inserted valid_df\n",
      "Transaction failed\n"
     ]
    }
   ],
   "source": [
    "valid_df = pd.DataFrame({'x': [4], 'y': ['JKL']})\n",
    "invalid_df = pd.DataFrame({'x': ['a'], 'y': [1]})\n",
    "with create_connection('local', '../.env_sample') as conn:\n",
    "    try:\n",
    "        append_df_to_table(conn, 'test_table', valid_df)\n",
    "        print('Successfully inserted valid_df')\n",
    "        append_df_to_table(conn, 'test_table', invalid_df)\n",
    "        print('Successfully inserted invalid_df')\n",
    "    except Exception as e:\n",
    "        print('Transaction failed')\n",
    "conn.close()"
   ]
  },
  {
   "cell_type": "code",
   "execution_count": null,
   "metadata": {},
   "outputs": [
    {
     "name": "stdout",
     "output_type": "stream",
     "text": [
      "   x    y\n",
      "0  1  ABC\n",
      "1  2  DEF\n",
      "2  3  GHI\n"
     ]
    }
   ],
   "source": [
    "print_test_table_contents()"
   ]
  },
  {
   "cell_type": "code",
   "execution_count": null,
   "metadata": {},
   "outputs": [],
   "source": [
    "#export\n",
    "def update_table_from_df(conn: Connection,\n",
    "                         table: str,\n",
    "                         df: pd.DataFrame,\n",
    "                         join_cols: Collection[str],\n",
    "                         update_cols: Optional[Collection[str]] = None,\n",
    "                         extra_where: Optional[str] = None):\n",
    "    \"\"\"Updates a postgresql table using the contents of a dataframe.\n",
    "\n",
    "    If update_cols is None (the default) join_cols are used in the where\n",
    "    statement of the update and the remaining columns are updated,\n",
    "    otherwise only update_cols are updated.\n",
    "\n",
    "    extra_where is placed at the start of the where statement.\n",
    "    \"\"\"\n",
    "    if update_cols is None:\n",
    "        update_cols = df.columns.drop(join_cols)\n",
    "    temp_table = f'temp_replacements_{random.randint(1, 1000):04}'\n",
    "    create_query = f\"\"\"\n",
    "        CREATE TEMP TABLE {temp_table}\n",
    "        AS\n",
    "        SELECT {', '.join(df.columns)}\n",
    "        FROM {table}\n",
    "        LIMIT 0\n",
    "    \"\"\"\n",
    "    def _create_equals_statements(cols, join_str, left_prefix='old_table.'):\n",
    "        statements = [f'{left_prefix}{col} = new_table.{col}' for col in cols]\n",
    "        return join_str.join(statements)\n",
    "    set_statement = _create_equals_statements(update_cols, join_str=',\\n\\t', left_prefix='')\n",
    "    where_statement = _create_equals_statements(join_cols, join_str='\\n\\tAND ')\n",
    "    if extra_where is not None:\n",
    "        where_statement = extra_where + '\\n\\tAND ' + where_statement\n",
    "    update_query = f\"\"\"\n",
    "        UPDATE {table} AS old_table\n",
    "        SET {set_statement}\n",
    "        FROM {temp_table} new_table\n",
    "        WHERE {where_statement}\n",
    "    \"\"\"\n",
    "    with conn.cursor() as cur:\n",
    "        cur.execute(create_query)\n",
    "        append_df_to_table(conn, temp_table, df)\n",
    "        cur.execute(update_query)"
   ]
  },
  {
   "cell_type": "markdown",
   "metadata": {},
   "source": [
    "We can also perform updates on existing tables using pandas dataframes."
   ]
  },
  {
   "cell_type": "code",
   "execution_count": null,
   "metadata": {},
   "outputs": [
    {
     "data": {
      "text/html": [
       "<div>\n",
       "<style scoped>\n",
       "    .dataframe tbody tr th:only-of-type {\n",
       "        vertical-align: middle;\n",
       "    }\n",
       "\n",
       "    .dataframe tbody tr th {\n",
       "        vertical-align: top;\n",
       "    }\n",
       "\n",
       "    .dataframe thead th {\n",
       "        text-align: right;\n",
       "    }\n",
       "</style>\n",
       "<table border=\"1\" class=\"dataframe\">\n",
       "  <thead>\n",
       "    <tr style=\"text-align: right;\">\n",
       "      <th></th>\n",
       "      <th>x</th>\n",
       "      <th>y</th>\n",
       "    </tr>\n",
       "  </thead>\n",
       "  <tbody>\n",
       "    <tr>\n",
       "      <th>0</th>\n",
       "      <td>2</td>\n",
       "      <td>MNO</td>\n",
       "    </tr>\n",
       "  </tbody>\n",
       "</table>\n",
       "</div>"
      ],
      "text/plain": [
       "   x    y\n",
       "0  2  MNO"
      ]
     },
     "execution_count": null,
     "metadata": {},
     "output_type": "execute_result"
    }
   ],
   "source": [
    "new_values = pd.DataFrame({'x': [2], 'y': ['MNO']})\n",
    "new_values"
   ]
  },
  {
   "cell_type": "code",
   "execution_count": null,
   "metadata": {},
   "outputs": [],
   "source": [
    "with create_connection('local', '../.env_sample') as conn:\n",
    "    update_table_from_df(conn, 'test_table', new_values, join_cols='x')\n",
    "conn.close()"
   ]
  },
  {
   "cell_type": "code",
   "execution_count": null,
   "metadata": {},
   "outputs": [
    {
     "name": "stdout",
     "output_type": "stream",
     "text": [
      "   x    y\n",
      "0  1  ABC\n",
      "1  3  GHI\n",
      "2  2  MNO\n"
     ]
    }
   ],
   "source": [
    "print_test_table_contents()"
   ]
  }
 ],
 "metadata": {
  "kernelspec": {
   "display_name": "Python 3",
   "language": "python",
   "name": "python3"
  }
 },
 "nbformat": 4,
 "nbformat_minor": 4
}
